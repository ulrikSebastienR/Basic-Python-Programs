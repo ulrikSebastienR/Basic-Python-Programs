{
  "nbformat": 4,
  "nbformat_minor": 0,
  "metadata": {
    "colab": {
      "name": "html to excel.ipynb",
      "provenance": [],
      "collapsed_sections": [],
      "authorship_tag": "ABX9TyP0yIZY7uHTdbQgMKAvK2fP",
      "include_colab_link": true
    },
    "kernelspec": {
      "name": "python3",
      "display_name": "Python 3"
    }
  },
  "cells": [
    {
      "cell_type": "markdown",
      "metadata": {
        "id": "view-in-github",
        "colab_type": "text"
      },
      "source": [
        "<a href=\"https://colab.research.google.com/github/ulrikSebastienR/Basic-Python-Programs/blob/master/html_to_excel.ipynb\" target=\"_parent\"><img src=\"https://colab.research.google.com/assets/colab-badge.svg\" alt=\"Open In Colab\"/></a>"
      ]
    },
    {
      "cell_type": "code",
      "metadata": {
        "id": "UAVKTiNrb-kC",
        "colab_type": "code",
        "colab": {
          "base_uri": "https://localhost:8080/",
          "height": 35
        },
        "outputId": "0ff8d0ce-5a60-4851-e889-dfa70df09841"
      },
      "source": [
        "https://www.youtube.com/watch?v=ndwuUzgAiPY&list=LLNzsZNOL8ahph4IIYK2c9Pg&index=4&t=47s"
      ],
      "execution_count": 2,
      "outputs": [
        {
          "output_type": "stream",
          "text": [
            "ERROR! Session/line number was not unique in database. History logging moved to new session 60\n"
          ],
          "name": "stdout"
        }
      ]
    },
    {
      "cell_type": "markdown",
      "metadata": {
        "id": "2hjUBQhWnrpk",
        "colab_type": "text"
      },
      "source": [
        ""
      ]
    },
    {
      "cell_type": "code",
      "metadata": {
        "id": "cGkJ64zAnqyT",
        "colab_type": "code",
        "colab": {}
      },
      "source": [
        "import pandas as pd\n",
        "import html5lib"
      ],
      "execution_count": 0,
      "outputs": []
    },
    {
      "cell_type": "code",
      "metadata": {
        "id": "RBBq3ohYcOHT",
        "colab_type": "code",
        "colab": {}
      },
      "source": [
        "from pandas import read_html"
      ],
      "execution_count": 0,
      "outputs": []
    },
    {
      "cell_type": "code",
      "metadata": {
        "id": "QeDROtifoARV",
        "colab_type": "code",
        "colab": {}
      },
      "source": [
        "url = \"https://www.moneycontrol.com/mutual-funds/performance-tracker/returns/large-cap-fund.html\""
      ],
      "execution_count": 0,
      "outputs": []
    },
    {
      "cell_type": "code",
      "metadata": {
        "id": "byFfMs2loH2j",
        "colab_type": "code",
        "colab": {
          "base_uri": "https://localhost:8080/",
          "height": 271
        },
        "outputId": "abe0c113-1938-4908-8e5d-110b13e9d72a"
      },
      "source": [
        "tables_list = read_html(url)\n",
        "print(tables_list)"
      ],
      "execution_count": 7,
      "outputs": [
        {
          "output_type": "stream",
          "text": [
            "[                                          Scheme Name  ...    10Y\n",
            "0   Sundaram Top 100 - Series VII - Regular Plan -...  ...      -\n",
            "1   Sundaram Top 100 - Series VII - Regular Plan -...  ...      -\n",
            "2   JM Large Cap Fund - (Direct) - GrowthLarge Cap...  ...      -\n",
            "3            JM Large Cap Fund - GrowthLarge Cap Fund  ...  5.22%\n",
            "4   Axis Bluechip Fund - Direct Plan - GrowthLarge...  ...      -\n",
            "..                                                ...  ...    ...\n",
            "60  Franklin India Bluechip Fund - GrowthLarge Cap...  ...  5.11%\n",
            "61  HDFC Top 100 Fund - Direct Plan - GrowthLarge ...  ...      -\n",
            "62           HDFC Top 100 Fund - GrowthLarge Cap Fund  ...  5.90%\n",
            "63  Nippon India Large Cap Fund - Direct Plan - Gr...  ...      -\n",
            "64  Nippon India Large Cap Fund - GrowthLarge Cap ...  ...  6.92%\n",
            "\n",
            "[65 rows x 13 columns]]\n"
          ],
          "name": "stdout"
        }
      ]
    },
    {
      "cell_type": "code",
      "metadata": {
        "id": "Yi8rGZKdoqLz",
        "colab_type": "code",
        "colab": {
          "base_uri": "https://localhost:8080/",
          "height": 271
        },
        "outputId": "4e6927ca-910d-462f-db5e-3f8d97ef1a5c"
      },
      "source": [
        "mf_list = tables_list[0]\n",
        "print(mf_list)"
      ],
      "execution_count": 15,
      "outputs": [
        {
          "output_type": "stream",
          "text": [
            "                                          Scheme Name  ...    10Y\n",
            "0   Sundaram Top 100 - Series VII - Regular Plan -...  ...      -\n",
            "1   Sundaram Top 100 - Series VII - Regular Plan -...  ...      -\n",
            "2   JM Large Cap Fund - (Direct) - GrowthLarge Cap...  ...      -\n",
            "3            JM Large Cap Fund - GrowthLarge Cap Fund  ...  5.22%\n",
            "4   Axis Bluechip Fund - Direct Plan - GrowthLarge...  ...      -\n",
            "..                                                ...  ...    ...\n",
            "60  Franklin India Bluechip Fund - GrowthLarge Cap...  ...  5.11%\n",
            "61  HDFC Top 100 Fund - Direct Plan - GrowthLarge ...  ...      -\n",
            "62           HDFC Top 100 Fund - GrowthLarge Cap Fund  ...  5.90%\n",
            "63  Nippon India Large Cap Fund - Direct Plan - Gr...  ...      -\n",
            "64  Nippon India Large Cap Fund - GrowthLarge Cap ...  ...  6.92%\n",
            "\n",
            "[65 rows x 13 columns]\n"
          ],
          "name": "stdout"
        }
      ]
    },
    {
      "cell_type": "code",
      "metadata": {
        "id": "fGjW9B2FpYHy",
        "colab_type": "code",
        "colab": {}
      },
      "source": [
        "mf_list.to_excel('large_cap_analysis.xlsx')"
      ],
      "execution_count": 0,
      "outputs": []
    },
    {
      "cell_type": "code",
      "metadata": {
        "id": "Ja--kSEXpzco",
        "colab_type": "code",
        "colab": {}
      },
      "source": [
        "output = pd.read_excel('large_cap_analysis.xlsx')"
      ],
      "execution_count": 0,
      "outputs": []
    },
    {
      "cell_type": "code",
      "metadata": {
        "id": "-V0S5WL4qNqT",
        "colab_type": "code",
        "colab": {
          "base_uri": "https://localhost:8080/",
          "height": 271
        },
        "outputId": "0694bde1-e9b1-4592-c5ba-8dfb74d525b5"
      },
      "source": [
        "print(output)"
      ],
      "execution_count": 23,
      "outputs": [
        {
          "output_type": "stream",
          "text": [
            "    Unnamed: 0  ...    10Y\n",
            "0            0  ...      -\n",
            "1            1  ...      -\n",
            "2            2  ...      -\n",
            "3            3  ...  5.22%\n",
            "4            4  ...      -\n",
            "..         ...  ...    ...\n",
            "60          60  ...  5.11%\n",
            "61          61  ...      -\n",
            "62          62  ...  5.90%\n",
            "63          63  ...      -\n",
            "64          64  ...  6.92%\n",
            "\n",
            "[65 rows x 14 columns]\n"
          ],
          "name": "stdout"
        }
      ]
    },
    {
      "cell_type": "code",
      "metadata": {
        "id": "p2y5gLDNrsBL",
        "colab_type": "code",
        "colab": {}
      },
      "source": [
        ""
      ],
      "execution_count": 0,
      "outputs": []
    }
  ]
}